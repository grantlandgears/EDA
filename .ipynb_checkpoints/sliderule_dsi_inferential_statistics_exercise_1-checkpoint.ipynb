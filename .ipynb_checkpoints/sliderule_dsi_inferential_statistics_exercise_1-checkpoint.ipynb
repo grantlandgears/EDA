{
 "cells": [
  {
   "cell_type": "markdown",
   "metadata": {},
   "source": [
    "# What is the True Normal Human Body Temperature? \n",
    "\n",
    "#### Background\n",
    "\n",
    "The mean normal body temperature was held to be 37$^{\\circ}$C or 98.6$^{\\circ}$F for more than 120 years since it was first conceptualized and reported by Carl Wunderlich in a famous 1868 book. But, is this value statistically correct?"
   ]
  },
  {
   "cell_type": "markdown",
   "metadata": {},
   "source": [
    "<div class=\"span5 alert alert-info\">\n",
    "<h3>Exercises</h3>\n",
    "\n",
    "<p>In this exercise, you will analyze a dataset of human body temperatures and employ the concepts of hypothesis testing, confidence intervals, and statistical significance.</p>\n",
    "\n",
    "<p>Answer the following questions <b>in this notebook below and submit to your Github account</b>.</p> \n",
    "\n",
    "<ol>\n",
    "<li>  Is the distribution of body temperatures normal? \n",
    "    <ul>\n",
    "    <li> Although this is not a requirement for CLT to hold (read CLT carefully), it gives us some peace of mind that the population may also be normally distributed if we assume that this sample is representative of the population.\n",
    "    </ul>\n",
    "<li>  Is the sample size large? Are the observations independent?\n",
    "    <ul>\n",
    "    <li> Remember that this is a condition for the CLT, and hence the statistical tests we are using, to apply.\n",
    "    </ul>\n",
    "<li>  Is the true population mean really 98.6 degrees F?\n",
    "    <ul>\n",
    "    <li> Would you use a one-sample or two-sample test? Why?\n",
    "    <li> In this situation, is it appropriate to use the $t$ or $z$ statistic? \n",
    "    <li> Now try using the other test. How is the result be different? Why?\n",
    "    </ul>\n",
    "<li>  At what temperature should we consider someone's temperature to be \"abnormal\"?\n",
    "    <ul>\n",
    "    <li> Start by computing the margin of error and confidence interval.\n",
    "    </ul>\n",
    "<li>  Is there a significant difference between males and females in normal temperature?\n",
    "    <ul>\n",
    "    <li> What test did you use and why?\n",
    "    <li> Write a story with your conclusion in the context of the original problem.\n",
    "    </ul>\n",
    "</ol>\n",
    "\n",
    "You can include written notes in notebook cells using Markdown: \n",
    "   - In the control panel at the top, choose Cell > Cell Type > Markdown\n",
    "   - Markdown syntax: http://nestacms.com/docs/creating-content/markdown-cheat-sheet\n",
    "\n",
    "#### Resources\n",
    "\n",
    "+ Information and data sources: http://www.amstat.org/publications/jse/datasets/normtemp.txt, http://www.amstat.org/publications/jse/jse_data_archive.htm\n",
    "+ Markdown syntax: http://nestacms.com/docs/creating-content/markdown-cheat-sheet\n",
    "\n",
    "****\n",
    "</div>"
   ]
  },
  {
   "cell_type": "markdown",
   "metadata": {},
   "source": [
    "## The Central Limit Theorem (CLT) states that the sampling distribution mean approaches a normal distribution as the number of mean samples increases, not overall samples. This holds trupe when sample size is equal to or larger than 30. \n",
    "Source: http://sphweb.bumc.bu.edu/otlt/mph-modules/bs/bs704_probability/BS704_Probability12.html"
   ]
  },
  {
   "cell_type": "code",
   "execution_count": 1,
   "metadata": {
    "collapsed": true
   },
   "outputs": [],
   "source": [
    "import pandas as pd\n",
    "\n",
    "df = pd.read_csv('data/human_body_temperature.csv')"
   ]
  },
  {
   "cell_type": "code",
   "execution_count": 2,
   "metadata": {},
   "outputs": [
    {
     "name": "stdout",
     "output_type": "stream",
     "text": [
      "<class 'pandas.core.frame.DataFrame'>\n",
      "RangeIndex: 130 entries, 0 to 129\n",
      "Data columns (total 3 columns):\n",
      "temperature    130 non-null float64\n",
      "gender         130 non-null object\n",
      "heart_rate     130 non-null float64\n",
      "dtypes: float64(2), object(1)\n",
      "memory usage: 3.1+ KB\n",
      "None\n",
      "-------------\n",
      "   temperature gender  heart_rate\n",
      "0         99.3      F        68.0\n",
      "1         98.4      F        81.0\n",
      "2         97.8      M        73.0\n",
      "3         99.2      F        66.0\n",
      "4         98.0      F        73.0\n"
     ]
    }
   ],
   "source": [
    "#check the column headings and first few lines\n",
    "print(df.info())\n",
    "print('-------------')\n",
    "print(df.head())"
   ]
  },
  {
   "cell_type": "markdown",
   "metadata": {},
   "source": [
    "## 1) Is the distribution of body temperatures normal?"
   ]
  },
  {
   "cell_type": "code",
   "execution_count": 3,
   "metadata": {
    "collapsed": true
   },
   "outputs": [],
   "source": [
    "import matplotlib.pyplot as plt\n",
    "import numpy as np\n",
    "from scipy import stats"
   ]
  },
  {
   "cell_type": "code",
   "execution_count": 4,
   "metadata": {},
   "outputs": [
    {
     "data": {
      "image/png": "[encoded data removed]",
      "text/plain": [
       "<matplotlib.figure.Figure at 0x2189325eb70>"
      ]
     },
     "metadata": {},
     "output_type": "display_data"
    }
   ],
   "source": [
    "#plot the histogram to inspect the shape of data\n",
    "_ = plt.hist(df['temperature'], bins = 25)\n",
    "_ = plt.xlabel('Temp in Degrees F')\n",
    "_ = plt.ylabel('Number of Measurements')\n",
    "_ = plt.margins(0.02)\n",
    "plt.show()"
   ]
  },
  {
   "cell_type": "markdown",
   "metadata": {},
   "source": [
    "We can see that there are some outliers in this data. Let's look at the Empirical Cumulative Distribution Function (ECDF) of the data and the theoretical data to have a different view."
   ]
  },
  {
   "cell_type": "code",
   "execution_count": 5,
   "metadata": {
    "collapsed": true
   },
   "outputs": [],
   "source": [
    "def ecdf(data):\n",
    "    n = len(data)\n",
    "    \n",
    "    x = np.sort(data)\n",
    "    \n",
    "    y = np.arange(1, n + 1) / n\n",
    "    \n",
    "    return x, y"
   ]
  },
  {
   "cell_type": "code",
   "execution_count": 6,
   "metadata": {},
   "outputs": [
    {
     "data": {
      "image/png": "[encoded data removed]",
      "text/plain": [
       "<matplotlib.figure.Figure at 0x21892f2fb70>"
      ]
     },
     "metadata": {},
     "output_type": "display_data"
    }
   ],
   "source": [
    "#observed data\n",
    "x, y = ecdf(df['temperature'])\n",
    "\n",
    "#theoretical data\n",
    "mean = np.mean(df['temperature'])\n",
    "std = np.std(df['temperature'])\n",
    "\n",
    "samples = np.random.normal(mean, std, size = 1000000)\n",
    "\n",
    "x_theor, y_theor = ecdf(samples)\n",
    "\n",
    "#plot the ecdfs of observed and theoretical\n",
    "_ = plt.plot(x, y, marker = '.', linestyle = 'none')\n",
    "_ = plt.plot(x_theor, y_theor)\n",
    "_ = plt.xlabel('temperature')\n",
    "_ = plt.ylabel('ECDF')\n",
    "plt.margins(0.02)\n",
    "plt.show()"
   ]
  },
  {
   "cell_type": "markdown",
   "metadata": {},
   "source": [
    "We see that they match up very well. We can conclude that the data is indeed normally distributed."
   ]
  },
  {
   "cell_type": "markdown",
   "metadata": {},
   "source": [
    "## 2. Is the sample size large? Are the observations independent? "
   ]
  },
  {
   "cell_type": "markdown",
   "metadata": {},
   "source": [
    "The sample size is large enough. In the preliminary look of the data I printed the info and head of the dataframe. There are 130 temperature samples and 130 >= 30 (multiple sources say that 30 is a sufficient amount of samples).\n",
    "\n",
    "The observations are independent because one person's body temperature cannot affect another person's body temperature. They are two, different, closed systems."
   ]
  },
  {
   "cell_type": "markdown",
   "metadata": {},
   "source": [
    "## 3. Is the true population mean really 98.6 degrees F?\n",
    "\n",
    "    a) Would you use a one-sample or two-sample test? Why?\n",
    "    b) In this situation, is it appropriate to use the τ or z statistic?\n",
    "    c) Now try using the other test. How is the result be different? Why? "
   ]
  },
  {
   "cell_type": "markdown",
   "metadata": {},
   "source": [
    "a) The one-sample test is appropriate. There is one set of data, the temperature and we need only one test statistic."
   ]
  },
  {
   "cell_type": "code",
   "execution_count": 7,
   "metadata": {},
   "outputs": [
    {
     "name": "stdout",
     "output_type": "stream",
     "text": [
      "4.35231516588e-08\n"
     ]
    }
   ],
   "source": [
    "\"\"\"\n",
    "b) The z statistic is the best option since we know the standard deviation (calculated prior) and the sample size \n",
    "is large enough for the CLT to apply. Mean of population = 98.6 and the null-hypothesis is that the temperature mean of the \n",
    "population is 98.6\n",
    "\"\"\"\n",
    "z = (mean - 98.6) / (std / np.sqrt(130))\n",
    "\"\"\"\n",
    "For calculating the p value, we would use a two-tailed test. We would reject the null hypothesis if the mean much higher \n",
    "or lower.\n",
    "\"\"\"\n",
    "p_z = stats.norm.cdf(z)*2\n",
    "\n",
    "print(p_z)"
   ]
  },
  {
   "cell_type": "markdown",
   "metadata": {},
   "source": [
    "p is much less than 0.05 so we reject the null-hypothesis that the mean temperature of the population is 98.6"
   ]
  },
  {
   "cell_type": "code",
   "execution_count": 8,
   "metadata": {},
   "outputs": [
    {
     "name": "stdout",
     "output_type": "stream",
     "text": [
      "2.18874646241e-07\n"
     ]
    }
   ],
   "source": [
    "\"\"\"\n",
    "c) Now calculate the t statistic and contrast the outcome to the z statistic outcome. The t table is used when the number of\n",
    "samples is less than thirty. The same equation used for the z statsitc applies, we just compare it to a different table.\n",
    "\"\"\"\n",
    "\n",
    "t = (mean - 98.6) / (std / np.sqrt(130))\n",
    "\n",
    "#use the degrees of freedom as the second argument (130-1)\n",
    "p_t = stats.t.cdf(t, (130-1))*2\n",
    "\n",
    "print(p_t)"
   ]
  },
  {
   "cell_type": "markdown",
   "metadata": {},
   "source": [
    "This value is a magnitude greater in value. The t statistic is only used in cases with small samples. The ends of the distribution have more space as they don't approach 0 as quickly as the z distribution case."
   ]
  },
  {
   "cell_type": "markdown",
   "metadata": {},
   "source": [
    "## 4. At what temperature should we consider someone's temperature to be \"abnormal\"? \n",
    "  - Start by computing the margin of error and confidence interval. "
   ]
  },
  {
   "cell_type": "code",
   "execution_count": 9,
   "metadata": {},
   "outputs": [
    {
     "name": "stdout",
     "output_type": "stream",
     "text": [
      "Margin of error is: 0.125550964803\n",
      "-------------------\n",
      "95% of normal temperatures should fall in the following range: (96.81775582674824, 99.680705711713316)\n"
     ]
    }
   ],
   "source": [
    "#Use sample stanadard deviation, std, and the number of samples, 130 or len(df['temperature'])\n",
    "marg_error = 1.96 * std / np.sqrt(len(df['temperature']))\n",
    "\n",
    "#find the confidence interval by using the norm.interval function with alpha=0.95, loc = mean, scale = std.\n",
    "CI_95 = stats.norm.interval(0.95, mean, std)\n",
    "\n",
    "print('Margin of error is:', marg_error)\n",
    "print('-------------------')\n",
    "print('95% of normal temperatures should fall in the following range:', CI_95)"
   ]
  },
  {
   "cell_type": "markdown",
   "metadata": {},
   "source": [
    "As per the calculations, it would be concerning if a person's temperature is below 96.8 or higher than 99.7 degrees fahrenheit."
   ]
  },
  {
   "cell_type": "markdown",
   "metadata": {},
   "source": [
    "## 5. Is there a significant difference between males and females in normal temperature?\n",
    "  - What test did you use and why? "
   ]
  },
  {
   "cell_type": "markdown",
   "metadata": {
    "collapsed": true
   },
   "source": [
    "For this question, it would be easiest to perform a two sample test. We are looking for variation of temperature for males and females."
   ]
  },
  {
   "cell_type": "code",
   "execution_count": 10,
   "metadata": {
    "collapsed": true
   },
   "outputs": [],
   "source": [
    "male = df[df.gender=='M']\n",
    "female = df[df.gender=='F']\n",
    "\n",
    "#calc mean and std for each\n",
    "mean_male = np.mean(male['temperature'])\n",
    "std_male = np.std(male['temperature'])\n",
    "\n",
    "mean_female = np.mean(female['temperature'])\n",
    "std_female = np.std(female['temperature'])"
   ]
  },
  {
   "cell_type": "code",
   "execution_count": 11,
   "metadata": {
    "collapsed": true
   },
   "outputs": [],
   "source": [
    "#A two sample bootstrap test will utilize the mean of all temperatures calculated before.\n",
    "#Generate the shifted arrays\n",
    "male_shifted = male['temperature'] - mean_male + mean\n",
    "female_shifted = female['temperature'] - mean_female + mean"
   ]
  },
  {
   "cell_type": "code",
   "execution_count": 12,
   "metadata": {
    "collapsed": true
   },
   "outputs": [],
   "source": [
    "def bootstrap_replicate_1d(data, func):\n",
    "    return func(np.random.choice(data, size=len(data)))\n",
    "\n",
    "def draw_bs_reps(data, func, size=1):\n",
    "     # Initialize array of replicates: bs_replicates\n",
    "    bs_replicates = np.empty(size)\n",
    "\n",
    "    # Generate replicates\n",
    "    for i in range(size):\n",
    "        bs_replicates[i] = bootstrap_replicate_1d(data, func)\n",
    "\n",
    "    return bs_replicates"
   ]
  },
  {
   "cell_type": "code",
   "execution_count": 13,
   "metadata": {},
   "outputs": [
    {
     "name": "stdout",
     "output_type": "stream",
     "text": [
      "p-value = 0.98928\n"
     ]
    }
   ],
   "source": [
    "bs_reps_male = draw_bs_reps(male_shifted, np.mean, size=100000)\n",
    "bs_reps_female = draw_bs_reps(female_shifted, np.mean, size=100000)\n",
    "\n",
    "bs_reps = bs_reps_male - bs_reps_female\n",
    "\n",
    "p = np.sum(bs_reps >= (mean_male - mean_female)) / len(bs_reps)\n",
    "print('p-value =', p)"
   ]
  },
  {
   "cell_type": "markdown",
   "metadata": {},
   "source": [
    "This extremely high p-value shows there is very little, if any, affect of sex on temperature."
   ]
  }
 ],
 "metadata": {
  "kernelspec": {
   "display_name": "Python 3",
   "language": "python",
   "name": "python3"
  },
  "language_info": {
   "codemirror_mode": {
    "name": "ipython",
    "version": 3
   },
   "file_extension": ".py",
   "mimetype": "text/x-python",
   "name": "python",
   "nbconvert_exporter": "python",
   "pygments_lexer": "ipython3",
   "version": "3.8.3"
  }
 },
 "nbformat": 4,
 "nbformat_minor": 1
}
